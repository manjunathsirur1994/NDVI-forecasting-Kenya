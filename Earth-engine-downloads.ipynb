{
 "cells": [
  {
   "cell_type": "code",
   "execution_count": null,
   "id": "d1ad57b8",
   "metadata": {
    "scrolled": true
   },
   "outputs": [],
   "source": [
    "# # PIP installs\n",
    "\n",
    "!pip install wxee\n",
    "!pip install rasterio\n",
    "!pip install pingouin"
   ]
  },
  {
   "cell_type": "code",
   "execution_count": null,
   "id": "4f9808ce",
   "metadata": {
    "tags": []
   },
   "outputs": [],
   "source": [
    "# IMPORT DEPENDENCIES\n",
    "\n",
    "import os\n",
    "from datetime import datetime\n",
    "import ee\n",
    "import wxee\n",
    "import pandas as pd\n",
    "import shutil\n",
    "import rasterio\n",
    "import seaborn as sns\n",
    "import pingouin as pg\n",
    "import pyproj\n",
    "import json\n",
    "from io import StringIO\n",
    "\n",
    "import warnings\n",
    "warnings.filterwarnings(\"ignore\")"
   ]
  },
  {
   "cell_type": "code",
   "execution_count": null,
   "id": "cc8d7379",
   "metadata": {
    "tags": []
   },
   "outputs": [],
   "source": [
    "# AUTHENTICATE GOOGLE PROJECT TO FETCH EARTH ENGINE DATA\n",
    "\n",
    "ee.Authenticate()\n",
    "wxee.Initialize(project='earth-engine-project-422209') "
   ]
  },
  {
   "cell_type": "code",
   "execution_count": null,
   "id": "009befa0",
   "metadata": {
    "tags": []
   },
   "outputs": [],
   "source": [
    "# Parquet file for country | wards | sub-county polygons\n",
    "\n",
    "file_path = 'Kenya_locations.parquet'\n",
    "parquet_file = pq.ParquetFile(file_path)\n",
    "row_group = parquet_file.read_row_group(0)\n",
    "locations = row_group.to_pandas()\n",
    "locations"
   ]
  },
  {
   "cell_type": "code",
   "execution_count": null,
   "id": "accd3b02",
   "metadata": {
    "tags": []
   },
   "outputs": [],
   "source": [
    "# List the number of files downloaded, run this only once you start downloading the files and you get interrupted. \n",
    "\n",
    "# s3 = boto3.client('s3')\n",
    "# def list_and_count_directories(bucket_name, prefix=''):\n",
    "#     paginator = s3.get_paginator('list_objects_v2')\n",
    "#     operation_parameters = {'Bucket': bucket_name, 'Prefix': prefix, 'Delimiter': '/'}\n",
    "#     page_iterator = paginator.paginate(**operation_parameters)\n",
    "\n",
    "#     directories = set()\n",
    "\n",
    "#     for page in page_iterator:\n",
    "#         for common_prefix in page.get('CommonPrefixes', []):\n",
    "#             directories.add(common_prefix['Prefix'])\n",
    "    \n",
    "#     total_directories = len(directories)\n",
    "#     return directories, total_directories\n",
    "\n",
    "# bucket_name = 'modis13q1-ndvi'\n",
    "# prefix = 'Modis data - Kenya/tiff files - Kenya/'\n",
    "\n",
    "# directories, total_directories = list_and_count_directories(bucket_name, prefix)\n",
    "\n",
    "# print(f\"Total number of directories: {total_directories}\")\n",
    "# for directory in directories:\n",
    "#     print(directory)"
   ]
  },
  {
   "cell_type": "code",
   "execution_count": null,
   "id": "cc3c1838",
   "metadata": {},
   "outputs": [],
   "source": []
  },
  {
   "cell_type": "code",
   "execution_count": null,
   "id": "c1510bc8",
   "metadata": {
    "tags": []
   },
   "outputs": [],
   "source": [
    "# List the files from the download was interrupted.(run this only once you start downloading the files and you get interrupted)\n",
    "\n",
    "# file_path = 'Kenya_locations.parquet'\n",
    "# parquet_file = pq.ParquetFile(file_path)\n",
    "# row_group = parquet_file.read_row_group(0)\n",
    "# locations = row_group.to_pandas()\n",
    "# locations\n",
    "\n",
    "# locations = locations.iloc[1382:]\n",
    "# locations"
   ]
  },
  {
   "cell_type": "code",
   "execution_count": null,
   "id": "1120d58c",
   "metadata": {
    "tags": []
   },
   "outputs": [],
   "source": [
    "# Print county, subcounty, and wards left to download.\n",
    "\n",
    "# print(len(locations['county'].unique()))\n",
    "# print(len(locations['subcounty'].unique()))\n",
    "# print(len(locations['name'].unique()))"
   ]
  },
  {
   "cell_type": "code",
   "execution_count": null,
   "id": "5ff1e7a1",
   "metadata": {},
   "outputs": [],
   "source": []
  },
  {
   "cell_type": "markdown",
   "id": "f7d3248c",
   "metadata": {},
   "source": [
    "## Functions"
   ]
  },
  {
   "cell_type": "code",
   "execution_count": null,
   "id": "65cd1bf3",
   "metadata": {
    "tags": []
   },
   "outputs": [],
   "source": [
    "# Download tiffs from Earth Engine to local folder\n",
    "\n",
    "def download_tiffs(coordinates):\n",
    "    geometry = ee.Geometry.Polygon(coordinates)\n",
    "\n",
    "    # Define the ImageCollection\n",
    "    collection = ee.ImageCollection('MODIS/061/MOD13Q1').filter(ee.Filter.date('2000-02-18', '2024-06-30'))\n",
    "\n",
    "    files = collection.wx.to_tif(\n",
    "        out_dir=local_folder,\n",
    "        prefix=\"wx_\",\n",
    "        region=geometry,\n",
    "        scale=250,\n",
    "        crs=\"EPSG:5070\"\n",
    "    )\n",
    "\n",
    "    files"
   ]
  },
  {
   "cell_type": "code",
   "execution_count": null,
   "id": "343ac4f5",
   "metadata": {
    "tags": []
   },
   "outputs": [],
   "source": [
    "# Renaming the files to Dates\n",
    "\n",
    "def rename_files(local_dir):\n",
    "    for filename in os.listdir(local_dir):\n",
    "        if filename.endswith(\".tif\"):\n",
    "            year_str = filename.split(\"_\")[4][:4]\n",
    "            month_str = filename.split(\"_\")[5][:2]\n",
    "            date_str = filename.split(\"_\")[6][0:2]\n",
    "            date_obj = date_str + \"/\" + month_str + \"/\" + year_str\n",
    "            date_obj = datetime.strptime(date_obj, \"%d/%m/%Y\").date()\n",
    "            new_filename = date_obj.strftime(\"%d-%m-%Y\") + \".tif\"\n",
    "            os.rename(os.path.join(local_dir, filename), os.path.join(local_dir, new_filename))"
   ]
  },
  {
   "cell_type": "code",
   "execution_count": null,
   "id": "47ee220b",
   "metadata": {
    "tags": []
   },
   "outputs": [],
   "source": [
    "# uploading the files to S3\n",
    "\n",
    "def upload_to_s3(local_dir, ward):\n",
    "    bucket_name = 'modis13q1-ndvi'\n",
    "    s3_folder = 'Modis data - Kenya/tiff files - Kenya/'\n",
    "    s3_prefix = f'Modis data - Kenya/tiff files - Kenya/{ward}/'\n",
    "    files = os.listdir(local_dir)\n",
    "    for file in files: \n",
    "        local_file_path = os.path.join(local_dir, file)\n",
    "        s3_key = os.path.join(s3_prefix, file)\n",
    "        s3.upload_file(local_file_path, bucket_name, s3_key)"
   ]
  },
  {
   "cell_type": "code",
   "execution_count": null,
   "id": "6226380c",
   "metadata": {
    "tags": []
   },
   "outputs": [],
   "source": [
    "# PREPROCESSING FUNCTION Raster to dataframe\n",
    "\n",
    "def get_data(path, date):\n",
    "    with rasterio.open(path) as src:\n",
    "        image_array = src.read()\n",
    "        df = pd.DataFrame(image_array.reshape(-1, src.count), columns=[f'band_{i+1}' for i in range(src.count)])\n",
    "        df['x'] = [src.xy(row, col)[0] for row in range(src.height) for col in range(src.width)]\n",
    "        df['y'] = [src.xy(row, col)[1] for row in range(src.height) for col in range(src.width)]\n",
    "        \n",
    "    projected_proj = pyproj.Proj(init='epsg:5070')  \n",
    "    wgs84_proj = pyproj.Proj(init='epsg:4326')\n",
    "    lon, lat = pyproj.transform(projected_proj, wgs84_proj, df['x'].values, df['y'].values)\n",
    "    df['latitude'] = lat\n",
    "    df['longitude'] = lon    \n",
    "    df['lat_long'] = df['latitude'].astype(str) + ',' + df['longitude'].astype(str)\n",
    "    df.set_index('lat_long', inplace=True)\n",
    "    df = df[['band_2']]\n",
    "    df.rename(columns={\"band_2\":date}, inplace=True)\n",
    "    return df"
   ]
  },
  {
   "cell_type": "code",
   "execution_count": null,
   "id": "d2730998",
   "metadata": {
    "scrolled": true
   },
   "outputs": [],
   "source": [
    "# Execution Script \n",
    "\n",
    "s3 = boto3.client('s3')\n",
    "bucket_name = 'modis13q1-ndvi'\n",
    "\n",
    "locations['name'] = locations['name'].str.replace('/', '-')\n",
    "for index,row in locations.iterrows():\n",
    "    local_folder = \"modis_data\"\n",
    "    os.makedirs(local_folder, exist_ok=True)\n",
    "    folder_name = row['name']+'|'+row['subcounty']+'|'+row['county']\n",
    "    geojson = json.loads(row['polygon']) \n",
    "    coords = geojson['coordinates'][0]\n",
    "    download_tiffs(coords)\n",
    "    rename_files(local_folder)\n",
    "    upload_to_s3(local_folder, folder_name)\n",
    "    shutil.rmtree(local_folder)"
   ]
  },
  {
   "cell_type": "code",
   "execution_count": null,
   "id": "53e3f35c",
   "metadata": {},
   "outputs": [],
   "source": []
  },
  {
   "cell_type": "code",
   "execution_count": null,
   "id": "99703632",
   "metadata": {},
   "outputs": [],
   "source": []
  },
  {
   "cell_type": "code",
   "execution_count": null,
   "id": "5c8dd776",
   "metadata": {},
   "outputs": [],
   "source": [
    "# Metadata edits\n",
    "\n",
    "file_path = 'Kenya_locations.parquet'\n",
    "parquet_file = pq.ParquetFile(file_path)\n",
    "row_group = parquet_file.read_row_group(0)\n",
    "locations = row_group.to_pandas()\n",
    "\n",
    "locations['name_2'] = locations['name'].str.replace('/', '-')\n",
    "locations['s3_directory_name'] = locations['name']+'|'+locations['subcounty']+'|'+locations['county']\n",
    "locations['root_directory'] = 'modis13q1-ndvi/Modis data - Kenya/'\n",
    "locations['country'] = 'Kenya'\n",
    "locations = locations[['country','name','name_2','county','subcounty','polygon','s3_directory_name','root_directory']]\n",
    "locations['full_path_to_s3_ward'] = locations['root_directory'] +'/'+ locations['s3_directory_name']\n",
    "locations"
   ]
  },
  {
   "cell_type": "code",
   "execution_count": null,
   "id": "76df51ae",
   "metadata": {},
   "outputs": [],
   "source": [
    "# download and upload to S3 bucket\n",
    "\n",
    "locations.to_csv('Kenya-meta-data.csv')"
   ]
  },
  {
   "cell_type": "code",
   "execution_count": null,
   "id": "3dbf7680",
   "metadata": {},
   "outputs": [],
   "source": []
  }
 ],
 "metadata": {
  "kernelspec": {
   "display_name": "Python 3 (ipykernel)",
   "language": "python",
   "name": "python3"
  },
  "language_info": {
   "codemirror_mode": {
    "name": "ipython",
    "version": 3
   },
   "file_extension": ".py",
   "mimetype": "text/x-python",
   "name": "python",
   "nbconvert_exporter": "python",
   "pygments_lexer": "ipython3",
   "version": "3.9.13"
  }
 },
 "nbformat": 4,
 "nbformat_minor": 5
}
